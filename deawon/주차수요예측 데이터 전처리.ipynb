{
 "cells": [
  {
   "cell_type": "code",
   "execution_count": 1,
   "id": "7a8fa3cb",
   "metadata": {},
   "outputs": [],
   "source": [
    "import numpy as np\n",
    "import pandas as pd\n",
    "import zipfile"
   ]
  },
  {
   "cell_type": "markdown",
   "id": "2e597c97",
   "metadata": {},
   "source": [
    "# 1. 데이터 수집 및 전처리\n",
    "\n",
    "- [\"자격유형\", \"공급유형\",\"임대보증금\"] 컬럼 삭제\n",
    "- 데이터 오류 단지코드 행 삭제\n",
    "- 결측치(버스, 지하철) 0으로 변환\n",
    "- 컬럼명 변경\n",
    "    - 공가수 => 빈집\n",
    "    - 단지내주차면수 => 주차면수\n",
    "    - 도보 10분거리 내 지하철역 수(환승노선 수 반영) => 노선수\n",
    "    - 도보 10분거리 내 버스정류장 수 => 버스"
   ]
  },
  {
   "cell_type": "code",
   "execution_count": 2,
   "id": "6af6d489",
   "metadata": {},
   "outputs": [],
   "source": [
    "### 압축 풀기\n",
    "# with zipfile.ZipFile(\"data/235745_parking_data.zip\") as target_file:\n",
    "#     target_file.extractall(\"data/\")\n",
    "\n",
    "### 데이터 열기\n",
    "train = pd.read_csv('data/train.csv')\n",
    "test = pd.read_csv('data/test.csv')\n",
    "age_gender_info = pd.read_csv('data/age_gender_info.csv')\n",
    "\n",
    "train.columns\n",
    "\n",
    "### 칼럼 삭제\n",
    "drop_col = [\"자격유형\", \"공급유형\",\"임대보증금\"]\n",
    "X_train = train.drop(drop_col, axis=1)\n",
    "X_test = test.drop(drop_col, axis=1)\n",
    "\n",
    "### 오류 데이터 제거\n",
    "train_drop = ['C2085', 'C1397','C2431', 'C1649','C1036', 'C1095', 'C2051', 'C1218', 'C1894', 'C2483', 'C1502', 'C1988']\n",
    "test_drop = ['C2335', 'C1327','C2675']\n",
    "train.drop\n",
    "for code in train_drop:\n",
    "    X_train = X_train.drop(X_train[X_train[\"단지코드\"]==code].index)\n",
    "for code in test_drop:\n",
    "    X_test = X_test.drop(X_test[X_test[\"단지코드\"]==code].index)\n",
    "\n",
    "### 결측치 0으로\n",
    "X_train[\"도보 10분거리 내 지하철역 수(환승노선 수 반영)\"]=X_train[\"도보 10분거리 내 지하철역 수(환승노선 수 반영)\"].fillna(0)\n",
    "X_test[\"도보 10분거리 내 지하철역 수(환승노선 수 반영)\"]=X_test[\"도보 10분거리 내 지하철역 수(환승노선 수 반영)\"].fillna(0)\n",
    "\n",
    "X_train[\"도보 10분거리 내 버스정류장 수\"]=X_train[\"도보 10분거리 내 버스정류장 수\"].fillna(0)\n",
    "X_test[\"도보 10분거리 내 버스정류장 수\"]=X_test[\"도보 10분거리 내 버스정류장 수\"].fillna(0)\n",
    "\n",
    "### 컬럼명 변경\n",
    "X_train = X_train.rename(columns={\"공가수\":\"빈집\", \n",
    "                       \"단지내주차면수\":\"주차면수\",\n",
    "                       \"도보 10분거리 내 지하철역 수(환승노선 수 반영)\":\"노선수\",\n",
    "                       \"도보 10분거리 내 버스정류장 수\":\"버스\"})\n",
    "X_test = X_test.rename(columns={\"공가수\":\"빈집\", \n",
    "                       \"단지내주차면수\":\"주차면수\",\n",
    "                       \"도보 10분거리 내 지하철역 수(환승노선 수 반영)\":\"노선수\",\n",
    "                       \"도보 10분거리 내 버스정류장 수\":\"버스\"})\n",
    "\n",
    "### CSV로 저장\n",
    "X_train.to_csv(\"data/pre_train.csv\")\n",
    "X_test.to_csv(\"data/pre_test.csv\")\n"
   ]
  },
  {
   "cell_type": "code",
   "execution_count": null,
   "id": "148d51aa",
   "metadata": {},
   "outputs": [],
   "source": []
  },
  {
   "cell_type": "code",
   "execution_count": null,
   "id": "2d510acf",
   "metadata": {},
   "outputs": [],
   "source": []
  }
 ],
 "metadata": {
  "kernelspec": {
   "display_name": "Python 3 (ipykernel)",
   "language": "python",
   "name": "python3"
  },
  "language_info": {
   "codemirror_mode": {
    "name": "ipython",
    "version": 3
   },
   "file_extension": ".py",
   "mimetype": "text/x-python",
   "name": "python",
   "nbconvert_exporter": "python",
   "pygments_lexer": "ipython3",
   "version": "3.9.13"
  }
 },
 "nbformat": 4,
 "nbformat_minor": 5
}
